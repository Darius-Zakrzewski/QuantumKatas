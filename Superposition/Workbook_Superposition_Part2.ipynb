{
 "cells": [
  {
   "cell_type": "markdown",
   "metadata": {},
   "source": [
    "# Superposition Kata Workbook, Part 2\n",
    "\n",
    "The [Superposition Kata Workbook, Part 1](./Workbook_Superposition.ipynb) includes the solutions of kata tasks 1 - 7.  Part 2 continues the explanations for the rest of the tasks."
   ]
  },
  {
   "cell_type": "markdown",
   "metadata": {},
   "source": [
    "To begin, first prepare this notebook for execution (if you skip this step, you'll get \"Syntax does not match any known patterns\" error when you try to execute Q# code in the next cells):"
   ]
  },
  {
   "cell_type": "code",
   "execution_count": null,
   "metadata": {
    "scrolled": true
   },
   "outputs": [],
   "source": [
    "%package Microsoft.Quantum.Katas::0.10.1911.1607"
   ]
  },
  {
   "cell_type": "markdown",
   "metadata": {},
   "source": [
    "> The package versions in the output of the cell above should always match. If you are running the Notebooks locally and the versions do not match, please install the IQ# version that matches the version of the `Microsoft.Quantum.Katas` package.\n",
    "> <details>\n",
    "> <summary><u>How to install the right IQ# version</u></summary>\n",
    "> For example, if the version of `Microsoft.Quantum.Katas` package above is 0.1.2.3, the installation steps are as follows:\n",
    ">\n",
    "> 1. Stop the kernel.\n",
    "> 2. Uninstall the existing version of IQ#:\n",
    ">        dotnet tool uninstall microsoft.quantum.iqsharp -g\n",
    "> 3. Install the matching version:\n",
    ">        dotnet tool install microsoft.quantum.iqsharp -g --version 0.1.2.3\n",
    "> 4. Reinstall the kernel:\n",
    ">        dotnet iqsharp install\n",
    "> 5. Restart the Notebook.\n",
    "> </details>\n"
   ]
  },
  {
   "cell_type": "markdown",
   "metadata": {},
   "source": [
    "## <a name=\"greenberger-horne-zeilinger\"></a>Task 8. Greenberger-Horne-Zellinger state.\n",
    "\n",
    "**Input:** N (N $\\ge$ 1) qubits in the |0 ... 0$\\rangle$ state (stored in an array of length N). <br>\n",
    "**Goal:** Change the state of the qubits to GHZ state $\\frac{1}{\\sqrt2}$ (|0 ... 0$\\rangle$ + |1 ... 1$\\rangle$).\n",
    "\n",
    "### Solution\n",
    "\n",
    "On <a href=\"https://en.wikipedia.org/wiki/Greenberger–Horne–Zeilinger_state\">Wikipedia</a>, we can read that a \"Greenberger–Horne–Zeilinger state (GHZ state) is a certain type of entangled quantum state that involves at least three subsystems (particles)… it is a quantum superposition of all subsystems being in state 0 with all of them being in state 1… The GHZ state is a maximally entangled quantum state.\n",
    "\n",
    "The simplest one is the 3-qubit GHZ state:\n",
    "|GHZ$\\rangle$ = <font size=\"4\"> $\\frac{|000\\rangle + |111\\rangle}{\\sqrt2}$ </font>\"\n",
    "\n",
    "Do you see the resemblance to the Bell state expression <font size=\"2\"> |$\\Phi^{+}\\rangle$ = $ \\frac{1}{\\sqrt2} \\big( |00\\rangle + |11\\rangle \\big)$ </font> which was discussed in task number 6?\n",
    "\n",
    "<table align=\"left\" style=\"background-color:white; border:0 solid; tr  { background-color:white; }\">\n",
    "<col width=600>\n",
    "</tr>\n",
    "<td style=\"text-align:left; font-size:14px; background-color:white; vertical-align:top; border:0\">If you recall, the Bell state was obtained using this circuit:</td>    \n",
    "    <tr>\n",
    "</tr>\n",
    "<td style=\"text-align:left; background-color:white; vertical-align:top; border:0\"><img align=\"left\" src=\"./img/Task8HadamardCNOTCircuit.png\"/></td>    \n",
    "    <tr>\n",
    "</table>\n",
    "\n",
    "<table align=\"left\" style=\"background-color: white; border:0 solid; tr  { background-color:white; }\">\n",
    "<col width=800>\n",
    "</tr>\n",
    "<td style=\"text-align:left; font-size:14px; background-color:white; vertical-align:top; border:0\"> As we move forward, let’s see if we can use this circuit as a building block. First, lets add a third qubit to the above circuit:</td>    \n",
    "<td style=\"text-align:left; background-color:white; vertical-align:top; border:0\">\n",
    "    <tr>\n",
    "</tr>\n",
    "<td style=\"text-align:left; background-color:white; vertical-align:top; border:0\"><img align=\"left\" src=\"./img/Task8Hadamardand3rdqubitircuit.png\"/></td>    \n",
    "<tr>\n",
    "</table>\n",
    "\n",
    "<table align=\"left\" style=\"background-color: white; border:0 solid; tr  { background-color:white; }\">\n",
    "<col width=800>\n",
    "</tr>\n",
    "<td style=\"text-align:left; font-size:14px; background-color:white; vertical-align:top; border:0\">Comparing this state with the desired end state, we see that they differ only in the third (right most) qubit:</td>    \n",
    "<td style=\"text-align:left; background-color:white; vertical-align:top; border:0\">\n",
    "    <tr>\n",
    "</tr>\n",
    "<td style=\"text-align:left; background-color:white; vertical-align:top; border:0\"><img align=\"left\" src=\"./img/Task8diffin3rdrightmostqubit.png\"/></td>    \n",
    "<tr>\n",
    "</table>\n",
    "\n",
    "<table align=\"left\" style=\"background-color: white; border:0 solid; tr  { background-color:white; }\">\n",
    "    <col width=1000>\n",
    "    <td style=\"text-align:left; vertical-align:top; font-size:14px;background-color:white; border:0\">Applying a controlled NOT operation using the first (left most) qubit as the control bit and using the third (right most) qubit as the target qubit: \n",
    "</td>\n",
    "    </tr>\n",
    "    <tr>\n",
    "    <td style=\"text-align:center; vertical-align:top; background-color:white; border:0\"><img align=\"left\" src=\"./img/Task8HadamardAndCNOTCircuit.png\"/></td>  \n",
    " </tr>  \n",
    " <tr>\n",
    "    <td style=\"text-align:center; vertical-align:top; background-color:white; border:0\"><img align=\"left\" src=\"./img/Task8CNOTFlip.png\"/></td>  \n",
    " </tr> \n",
    " </table>\n",
    " \n",
    " <table align=\"left\" style=\"background-color: white; border:0 solid; tr  { background-color:white; }\">\n",
    "    <col width=1000>\n",
    "    <td style=\"text-align:left; vertical-align:top; font-size:14px;background-color:white; border:0\">And similarly, a circuit with four qubits:\n",
    "</td>\n",
    "    </tr>\n",
    "    <tr>\n",
    "    <td style=\"text-align:center; vertical-align:top; background-color:white; border:0\"><img align=\"left\" src=\"./img/Task84QubitCircuit.png\"/></td>  \n",
    " </tr>  \n",
    " <tr>\n",
    "    <td style=\"text-align:left; vertical-align:top; font-size:14px; background-color:white; border:0\">would yield $\\frac{1}{\\sqrt2} (|0000\\rangle + |1111\\rangle$)</td>  \n",
    " </tr> \n",
    " </table>"
   ]
  },
  {
   "cell_type": "code",
   "execution_count": null,
   "metadata": {},
   "outputs": [],
   "source": [
    "%kata T08_GHZ_State_Test\n",
    "\n",
    "// Task 8. Greenberger–Horne–Zeilinger state\n",
    "// Input: N qubits in |0...0⟩ state.\n",
    "// Goal: create a GHZ state (|0...0⟩ + |1...1⟩) / sqrt(2) on these qubits.\n",
    "operation GHZ_State (qs : Qubit[]) : Unit {\n",
    "    // Hint: N can be found as Length(qs).\n",
    "    H(qs[0]);\n",
    "    \n",
    "    for (q in Rest(qs)) {\n",
    "        CNOT(qs[0],q);\n",
    "    }\n",
    "}"
   ]
  },
  {
   "cell_type": "markdown",
   "metadata": {},
   "source": [
    "[Return to task 8 of the Superposition kata.](./Superposition.ipynb#greenberger-horne-zeilinger)"
   ]
  },
  {
   "cell_type": "markdown",
   "metadata": {},
   "source": [
    "## <a name=\"superposition-of-all-basis-vectors\"></a>  Task 9. Superposition of all basis vectors.\n",
    "\n",
    "**Input:** $N$ ($N \\ge 1$) qubits in the $|0 \\dots 0\\rangle$ state.\n",
    "\n",
    "**Goal:**  Change the state of the qubits to an equal superposition of all basis vectors $\\frac{1}{\\sqrt{2^N}} \\big (|0 \\dots 0\\rangle + \\dots + |1 \\dots 1\\rangle\\big)$. For example, for N = 2 the final state should be  $\\frac{1}{\\sqrt{2}} * \\big (|00\\rangle + |01\\rangle + |10\\rangle + |11\\rangle\\big)$.\n",
    "\n",
    "<br/>\n",
    "<details>\n",
    "  <summary>Need a hint? Click here</summary>\n",
    "  Is this state separable?\n",
    "</details>"
   ]
  },
  {
   "cell_type": "markdown",
   "metadata": {},
   "source": [
    "### Solution\n",
    "Putting some light on the definition of “equal superposition”, we refer to <a href=\"https://en.wikipedia.org/wiki/Hadamard_transform#Quantum_computing_applications\">Wikipedia section on the Hadamard gate:</a>\n",
    "\n",
    "It seems a solution might be to apply a Hadamard transform to every single qubit. <br>\n",
    "\n",
    "\\begin{align*}\n",
    "   H(|0\\rangle)&= \\frac{1}{\\sqrt2}\\big(|0\\rangle + |1\\rangle\\big)\\\\\n",
    "   H(|0\\rangle)H(|0\\rangle)&= \\frac{1}{\\sqrt2} (|0\\rangle + |1\\rangle) \\otimes \\frac{1}{\\sqrt2} (|0\\rangle + |1\\rangle)\\\\   \n",
    "               &= \\frac{1}{\\sqrt{2^2}}\\big(|00\\rangle + |01\\rangle+ |10\\rangle+ |11\\rangle\\big)\\\\\n",
    "   H(|0\\rangle)H(|0\\rangle)H(|0\\rangle)&= \\frac{1}{\\sqrt{2^2}}\\big(|00\\rangle + |01\\rangle+ |10\\rangle+ |11\\rangle\\big) \\otimes \\frac{1}{\\sqrt2}\\big(|0\\rangle + |1\\rangle\\big)\\\\\n",
    "               &= \\frac{1}{\\sqrt{2^3}}\\big(|000\\rangle + |010\\rangle+ |100\\rangle+ |110\\rangle+ |001\\rangle + |011\\rangle+ |101\\rangle+ |111\\rangle\\big)\\\\\n",
    "    \\underset{N}{\\underbrace{H(|0\\rangle)H(|0\\rangle)H(|0\\rangle)}} &= \\frac{1}{\\sqrt{2^N}}  \\underset{N}{\\underbrace{\\big(|0\\cdots0\\rangle\\big)}}+\\cdots+\\underset{N}{\\underbrace{\\big(|1\\cdots1\\rangle\\big)}}\\\\    \n",
    "\\end{align*}\n",
    "\n",
    "Which produces the final desired state: <font size=\"3\"> $\\frac{1}{\\sqrt{2^N}}\\big(|0 \\cdots 0\\rangle + \\cdots + |1 \\cdots 1\\rangle\\big)$\n",
    " \n",
    "<font size=\"3\">Thus, the solution requires us to iterative over the qubit array to apply the Hadamard operation to each element as follows:"
   ]
  },
  {
   "cell_type": "code",
   "execution_count": null,
   "metadata": {},
   "outputs": [],
   "source": [
    "%kata T09_AllBasisVectorsSuperposition_Test\n",
    "\n",
    "// Task 9. Superposition of all basis vectors\n",
    "// Input: N qubits in |0...0⟩ state.\n",
    "// Goal: create an equal superposition of all basis vectors from |0...0⟩ to |1...1⟩\n",
    "// (i.e. state (|0...0⟩ + ... + |1...1⟩) / sqrt(2^N) ).\n",
    "operation AllBasisVectorsSuperposition (qs : Qubit[]) : Unit {\n",
    "    for (q in qs) {\n",
    "        H(q);\n",
    "    }\n",
    "}"
   ]
  },
  {
   "cell_type": "markdown",
   "metadata": {},
   "source": [
    "[Return to task 9 of the Superposition kata.](./Superposition.ipynb#superposition-of-all-basis-vectors)"
   ]
  },
  {
   "cell_type": "markdown",
   "metadata": {},
   "source": [
    "## <a name=\"superposition-of-all-even-or-all-odd-numbers\"></a>Task 10. Superposition of all even or all odd numbers.\n",
    "\n",
    "**Inputs:** \n",
    "\n",
    "1. $N$ ($N \\ge 1$) qubits in the $|0 \\dots 0\\rangle$ state (stored in an array of length $N$).\n",
    "2. A boolean `isEven`.\n",
    "\n",
    "**Goal:**  Prepare a superposition of all *even* numbers if `isEven` is `true`, or of all *odd* numbers if `isEven` is `false`.  \n",
    "A basis state encodes an integer number using [big-endian](https://en.wikipedia.org/wiki/Endianness) binary notation: state $|01\\rangle$ corresponds to the integer $1$, and state $|10 \\rangle$ - to the integer $2$.  \n",
    "\n",
    "> For example, for $N = 2$ and `isEven = false` you need to prepare superposition $\\frac{1}{\\sqrt{2}} \\big (|01\\rangle + |11\\rangle\\big )$,  \n",
    "and for $N = 2$ and `isEven = true` - superposition $\\frac{1}{\\sqrt{2}} \\big (|00\\rangle + |10\\rangle\\big )$.\n",
    "</details>"
   ]
  },
  {
   "cell_type": "markdown",
   "metadata": {},
   "source": [
    "### Solution\n",
    "\n",
    "Let’s look at some examples of basis states to illustrate the binary numbering system. \n",
    "\n",
    "The 4 basis states on $N = 2$ qubits can be split in two columns, where the left column represents the basis states that form the required superposition state for `isEven = false` and the right column - the basis states that form the required superposition state for `isEven = true`:\n",
    "\n",
    "<img src=\"./img/Task10_1.png\" width=\"400\">\n",
    " \n",
    "If we do the same basis state split for $N = 3$ qubits, the pattern becomes more obvious:\n",
    " \n",
    "<img src=\"./img/Task10_2.png\" width=\"400\">"
   ]
  },
  {
   "cell_type": "markdown",
   "metadata": {},
   "source": [
    "The two leftmost qubits go through all possible basis states for `isEven = false` and for `isEven = true`, and the rightmost qubit stays in the $|1\\rangle$ state for `isEven = false` and in the $|0\\rangle$ state for `isEven = true`. \n",
    "\n",
    "A quick sanity check for $N = 4$ qubits re-confirms the pattern:\n",
    " \n",
    "<img src=\"./img/Task10_3.png\" width=\"400\">\n",
    " \n",
    "Again, the three leftmost qubits go through all possible basis states in both columns, and the rightmost qubit stays in the same state in each column. \n",
    "\n",
    "The solution is to put all qubits except the rightmost one into an equal superposition (similar to what we did in Task 9) and to set the rightmost qubit to $|0\\rangle$ or $|1\\rangle$ depending on the `isEven` flag, using the X operator to convert $|0\\rangle$ to $|1\\rangle$ if `isEven = false`."
   ]
  },
  {
   "cell_type": "code",
   "execution_count": null,
   "metadata": {},
   "outputs": [],
   "source": [
    "%kata T10_EvenOddNumbersSuperposition_Test\n",
    "\n",
    "operation EvenOddNumbersSuperposition (qs : Qubit[], isEven : Bool) : Unit is Adj {\n",
    "    let N = Length(qs);\n",
    "    for (i in 0 .. N-2) {\n",
    "        H(qs[i]);\n",
    "    }\n",
    "    // for odd numbers, flip the last bit to 1\n",
    "    if (not isEven) {\n",
    "        X(qs[N-1]);\n",
    "    }\n",
    "}"
   ]
  },
  {
   "cell_type": "markdown",
   "metadata": {},
   "source": [
    "[Return to task 10 of the Superposition kata.](./Superposition.ipynb#superposition-of-all-even-or-all-odd-numbers)"
   ]
  },
  {
   "cell_type": "markdown",
   "metadata": {},
   "source": [
    "*Solutions to the rest of the tasks coming up soon...*"
   ]
  }
 ],
 "metadata": {
  "kernelspec": {
   "display_name": "Q#",
   "language": "qsharp",
   "name": "iqsharp"
  },
  "language_info": {
   "file_extension": ".qs",
   "mimetype": "text/x-qsharp",
   "name": "qsharp",
   "version": "0.4"
  }
 },
 "nbformat": 4,
 "nbformat_minor": 2
}
